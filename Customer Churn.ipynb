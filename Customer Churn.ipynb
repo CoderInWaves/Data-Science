{
 "cells": [
  {
   "cell_type": "code",
   "execution_count": null,
   "id": "cbc96677",
   "metadata": {},
   "outputs": [
    {
     "name": "stderr",
     "output_type": "stream",
     "text": [
      "/tmp/ipykernel_5665/768635873.py:14: FutureWarning: Downcasting behavior in `replace` is deprecated and will be removed in a future version. To retain the old behavior, explicitly call `result.infer_objects(copy=False)`. To opt-in to the future behavior, set `pd.set_option('future.no_silent_downcasting', True)`\n",
      "  data_set[yes_no_cols] = data_set[yes_no_cols].replace({'Yes': 1, 'No': 0})\n",
      "/tmp/ipykernel_5665/768635873.py:17: FutureWarning: DataFrame.applymap has been deprecated. Use DataFrame.map instead.\n",
      "  data_set = data_set.applymap(lambda x: str(x).lower() if isinstance(x, str) else x)\n"
     ]
    }
   ],
   "source": [
    "import numpy as np\n",
    "import pandas as pd\n",
    "from matplotlib import pyplot\n",
    "import matplotlib.pyplot as plt\n",
    "import seaborn as se\n",
    "\n",
    "class churn_code:\n",
    "    def dataset():\n",
    "        data_set = pd.read_csv(\"/home/happy/Downloads/churn-bigml-80.csv\")\n",
    "        # Identify all columns containing 'yes' or 'no' values\n",
    "        yes_no_cols = data_set.columns[data_set.isin(['Yes', 'No']).any()]\n",
    "\n",
    "        # Replace 'yes' with 1 and 'no' with 0 in those columns\n",
    "        data_set[yes_no_cols] = data_set[yes_no_cols].replace({'Yes': 1, 'No': 0})\n",
    "        \n",
    "        # Step 1: Normalize all string values to lowercase (to handle case-insensitive variants)\n",
    "        data_set = data_set.applymap(lambda x: str(x).lower() if isinstance(x, str) else x)\n",
    "\n",
    "        # Step 2: Replace 'yes', 'true' with 1 and 'no', 'false' with 0\n",
    "        data_set = data_set.replace({\n",
    "            'yes': 1, 'no': 0,\n",
    "            'true': 1, 'false': 0\n",
    "        })\n",
    "\n",
    "        # TAKE OVERVIEW OF DATASET\n",
    "        print(data_set.describe())\n",
    "        print(data_set.head(10))\n",
    "        print(data_set.columns)\n",
    "\n",
    "        # Univariate Analysis\n",
    "        se.histplot(data=data_set, x='Total night charge', y='Total intl charge', hue='Churn')\n",
    "        se.boxplot(data=data_set, x='Total night charge', y=\"Total intl charge\", hue=\"Churn\")\n",
    "        se.violinplot(data=data_set, x='Total night charge', y=\"Total intl charge\", hue=\"Churn\")\n",
    "        \n",
    "        # Bivariate Analysis (Churn vs Features)\n",
    "        se.violinplot(data=data_set, x='Total intl charge', y='Total night charge')\n",
    "        se.boxplot(data=data_set, x='Churn', y='International plan')\n",
    "        se.barplot(data=data_set, x='Churn', y='Voice mail plan', hue='International plan')\n",
    "\n",
    "        # Correlation Matrix\n",
    "        cols = ['Total intl charge', 'Total intl calls', 'Total intl minutes', 'Total night charge']\n",
    "        co_relation = data_set[cols].corr()\n",
    "        se.heatmap(co_relation, annot=True, cmap='coolwarm')\n",
    "        pyplot.show()\n",
    "\n",
    "        # SEGMENTED REPORTING\n",
    "        print(data_set.groupby('Churn')[['Total night minutes', 'Total intl charge', 'Voice mail plan']].agg(['mean', 'median']))\n",
    "\n",
    "        # VISUALIZATION DASHBOARD\n",
    "        g = se.FacetGrid(data=data_set, col='International plan')\n",
    "        g.map_dataframe(se.scatterplot, x='Voice mail plan', y='Number vmail messages', hue='Total day calls')\n",
    "        g.add_legend()\n",
    "\n",
    "        # SAVE VISUAL REPORT INTO PNG IMAGE AND PDF\n",
    "        plt.savefig(\"monthly_charges_vs_churn.png\", dpi=300)\n",
    "        plt.savefig(\"monthly_charges_vs_churn.pdf\")\n",
    "        plt.close() \n",
    "\n",
    "       \n",
    "\n",
    "if __name__=='__main__':\n",
    "    cls = churn_code\n",
    "    cls.dataset()"
   ]
  }
 ],
 "metadata": {
  "kernelspec": {
   "display_name": "Python (automation)",
   "language": "python",
   "name": "automation"
  },
  "language_info": {
   "codemirror_mode": {
    "name": "ipython",
    "version": 3
   },
   "file_extension": ".py",
   "mimetype": "text/x-python",
   "name": "python",
   "nbconvert_exporter": "python",
   "pygments_lexer": "ipython3",
   "version": "3.10.12"
  }
 },
 "nbformat": 4,
 "nbformat_minor": 5
}
